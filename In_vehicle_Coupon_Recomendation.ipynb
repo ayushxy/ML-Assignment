{
 "cells": [
  {
   "cell_type": "markdown",
   "id": "ffb3fd5d-2531-4973-bb2c-dcfa7733705b",
   "metadata": {},
   "source": [
    "# Business Problem - \n",
    "## Companies recommend coupons to their customers by using location-based services. To do this, companies need to understand the key factors that affect a customer's decision to accept those coupons to help them design better effective marketing strategies, that would improve customer engagement and drive better sales."
   ]
  },
  {
   "cell_type": "code",
   "execution_count": null,
   "id": "ec415980-74c4-45fa-affa-baa9f8b7605b",
   "metadata": {},
   "outputs": [],
   "source": [
    "import pandas as pd\n",
    "import numpy as np"
   ]
  },
  {
   "cell_type": "code",
   "execution_count": null,
   "id": "f363cd18-163c-47b2-9b7f-4c215766dadf",
   "metadata": {},
   "outputs": [],
   "source": [
    "df = pd.read_csv(\"C://Users//Tiny_//Downloads//ML Assignment//in+vehicle+coupon+recommendation//in-vehicle-coupon-recommendation.csv\")"
   ]
  },
  {
   "cell_type": "code",
   "execution_count": null,
   "id": "1fea1b7f-1e20-4905-8681-2b8947ee4653",
   "metadata": {},
   "outputs": [],
   "source": [
    "df.head(2)"
   ]
  },
  {
   "cell_type": "code",
   "execution_count": null,
   "id": "e57a595f-3b67-451c-a0b5-0b9db70a3f6d",
   "metadata": {},
   "outputs": [],
   "source": [
    "df.info()"
   ]
  },
  {
   "cell_type": "markdown",
   "id": "857695f6-ae81-4118-b669-e94e1cfb01d3",
   "metadata": {},
   "source": [
    "# Finding Missing Values"
   ]
  },
  {
   "cell_type": "code",
   "execution_count": 27,
   "id": "f3fed42e-4f17-47b8-a526-3eba5c20226e",
   "metadata": {},
   "outputs": [
    {
     "data": {
      "text/plain": [
       "destination                 0\n",
       "passanger                   0\n",
       "weather                     0\n",
       "temperature                 0\n",
       "time                        0\n",
       "coupon                      0\n",
       "expiration                  0\n",
       "gender                      0\n",
       "age                         0\n",
       "maritalStatus               0\n",
       "has_children                0\n",
       "education                   0\n",
       "occupation                  0\n",
       "income                      0\n",
       "car                     12576\n",
       "Bar                       107\n",
       "CoffeeHouse               217\n",
       "CarryAway                 151\n",
       "RestaurantLessThan20      130\n",
       "Restaurant20To50          189\n",
       "toCoupon_GEQ5min            0\n",
       "toCoupon_GEQ15min           0\n",
       "toCoupon_GEQ25min           0\n",
       "direction_same              0\n",
       "direction_opp               0\n",
       "Y                           0\n",
       "dtype: int64"
      ]
     },
     "execution_count": 27,
     "metadata": {},
     "output_type": "execute_result"
    }
   ],
   "source": [
    "df.isna().sum()"
   ]
  },
  {
   "cell_type": "markdown",
   "id": "b37d4f70-6bb6-4182-8374-cb0a28fca077",
   "metadata": {},
   "source": [
    "# Data Cleaning and Pre-Processing"
   ]
  },
  {
   "cell_type": "code",
   "execution_count": 30,
   "id": "20ca1417-2f3b-4578-b2e1-cfac55c61fd0",
   "metadata": {},
   "outputs": [],
   "source": [
    "df['Bar'].fillna(df['Bar'].mode()[0], inplace=True)\n",
    "df['CoffeeHouse'].fillna(df['CoffeeHouse'].mode()[0], inplace=True)\n",
    "df['CarryAway'].fillna(df['CarryAway'].mode()[0], inplace=True)\n",
    "df['RestaurantLessThan20'].fillna(df['RestaurantLessThan20'].mode()[0], inplace=True)\n",
    "df['Restaurant20To50'].fillna(df['Restaurant20To50'].mode()[0], inplace=True)"
   ]
  },
  {
   "cell_type": "code",
   "execution_count": 32,
   "id": "32ef5989-bcd2-4217-ac0f-803a837788ea",
   "metadata": {},
   "outputs": [],
   "source": [
    "df1 = df.drop(['car'], axis = 1)"
   ]
  },
  {
   "cell_type": "code",
   "execution_count": 34,
   "id": "5550559b-1f49-4d50-b448-f3eebcf8b797",
   "metadata": {},
   "outputs": [
    {
     "name": "stdout",
     "output_type": "stream",
     "text": [
      "<class 'pandas.core.frame.DataFrame'>\n",
      "RangeIndex: 12684 entries, 0 to 12683\n",
      "Data columns (total 25 columns):\n",
      " #   Column                Non-Null Count  Dtype \n",
      "---  ------                --------------  ----- \n",
      " 0   destination           12684 non-null  object\n",
      " 1   passanger             12684 non-null  object\n",
      " 2   weather               12684 non-null  object\n",
      " 3   temperature           12684 non-null  int64 \n",
      " 4   time                  12684 non-null  object\n",
      " 5   coupon                12684 non-null  object\n",
      " 6   expiration            12684 non-null  object\n",
      " 7   gender                12684 non-null  object\n",
      " 8   age                   12684 non-null  object\n",
      " 9   maritalStatus         12684 non-null  object\n",
      " 10  has_children          12684 non-null  int64 \n",
      " 11  education             12684 non-null  object\n",
      " 12  occupation            12684 non-null  object\n",
      " 13  income                12684 non-null  object\n",
      " 14  Bar                   12684 non-null  object\n",
      " 15  CoffeeHouse           12684 non-null  object\n",
      " 16  CarryAway             12684 non-null  object\n",
      " 17  RestaurantLessThan20  12684 non-null  object\n",
      " 18  Restaurant20To50      12684 non-null  object\n",
      " 19  toCoupon_GEQ5min      12684 non-null  int64 \n",
      " 20  toCoupon_GEQ15min     12684 non-null  int64 \n",
      " 21  toCoupon_GEQ25min     12684 non-null  int64 \n",
      " 22  direction_same        12684 non-null  int64 \n",
      " 23  direction_opp         12684 non-null  int64 \n",
      " 24  Y                     12684 non-null  int64 \n",
      "dtypes: int64(8), object(17)\n",
      "memory usage: 2.4+ MB\n"
     ]
    }
   ],
   "source": [
    "df1.info()"
   ]
  },
  {
   "cell_type": "code",
   "execution_count": 36,
   "id": "9a8eee29-7df1-45d1-bbd9-f04958e7de51",
   "metadata": {},
   "outputs": [
    {
     "data": {
      "text/plain": [
       "income\n",
       "$100000 or More     1736\n",
       "$12500 - $24999     1831\n",
       "$25000 - $37499     2013\n",
       "$37500 - $49999     1805\n",
       "$50000 - $62499     1659\n",
       "$62500 - $74999      846\n",
       "$75000 - $87499      857\n",
       "$87500 - $99999      895\n",
       "Less than $12500    1042\n",
       "Name: count, dtype: int64"
      ]
     },
     "execution_count": 36,
     "metadata": {},
     "output_type": "execute_result"
    }
   ],
   "source": [
    "df1['income'].value_counts().sort_index(ascending=True)  # Sort by index (income ranges)"
   ]
  },
  {
   "cell_type": "markdown",
   "id": "26e23c7c-033c-4116-9a29-523b125b752c",
   "metadata": {},
   "source": [
    "# Encoding"
   ]
  },
  {
   "cell_type": "code",
   "execution_count": 39,
   "id": "eb0fdfc1-413b-4950-81b6-28da95086b1f",
   "metadata": {},
   "outputs": [],
   "source": [
    "df1['income_enc'] = df1['income'].map({'Less than $12500' :0, '$12500 - $24999' :1, '$12500 - $24999' :2, '$25000 - $37499' :3, '$37500 - $49999' :4, '$50000 - $62499' :5, '$62500 - $74999' :6, '$75000 - $87499' :7, '$87500 - $99999' :8, '$100000 or More' :9})"
   ]
  },
  {
   "cell_type": "code",
   "execution_count": 41,
   "id": "27da4671-d1f6-4145-a394-770dc2376ac8",
   "metadata": {},
   "outputs": [
    {
     "data": {
      "text/plain": [
       "Y\n",
       "1    7210\n",
       "0    5474\n",
       "Name: count, dtype: int64"
      ]
     },
     "execution_count": 41,
     "metadata": {},
     "output_type": "execute_result"
    }
   ],
   "source": [
    "#no such data imbalance\n",
    "df1['Y'].value_counts()"
   ]
  },
  {
   "cell_type": "code",
   "execution_count": 43,
   "id": "34a68918-faa8-46e4-987e-ac540079033a",
   "metadata": {},
   "outputs": [],
   "source": [
    "from sklearn.preprocessing import LabelEncoder\n",
    "le = LabelEncoder()"
   ]
  },
  {
   "cell_type": "code",
   "execution_count": 44,
   "id": "fe299e83-2dbf-4cad-895e-2c79876fa68d",
   "metadata": {},
   "outputs": [],
   "source": [
    "#indepndent_var\n",
    "df1['destination_enc']         = le.fit_transform(df['destination'])\n",
    "df1['passanger_enc']           = le.fit_transform(df['passanger'])\n",
    "df1['weather_enc']             = le.fit_transform(df['weather'])\n",
    "df1['time_enc']                = le.fit_transform(df['time'])\n",
    "df1['coupon_enc']              = le.fit_transform(df['coupon'])\n",
    "df1['expiration_enc']          = le.fit_transform(df['expiration'])\n",
    "df1['gender_enc']              = le.fit_transform(df['gender'])\n",
    "df1['age_enc']                 = le.fit_transform(df['age'])\n",
    "df1['maritalStatus_enc']       = le.fit_transform(df['maritalStatus'])\n",
    "df1['education_enc']           = le.fit_transform(df['education'])\n",
    "df1['occupation_enc']          = le.fit_transform(df['occupation'])\n",
    "df1['Bar_enc']                 = le.fit_transform(df['Bar'])\n",
    "df1['CoffeeHouse_enc']         = le.fit_transform(df['CoffeeHouse'])\n",
    "df1['CarryAway_enc']           = le.fit_transform(df['CarryAway'])\n",
    "df1['RestaurantLessThan20_enc']= le.fit_transform(df['RestaurantLessThan20'])\n",
    "df1['Restaurant20To50_enc']    = le.fit_transform(df['Restaurant20To50'])"
   ]
  },
  {
   "cell_type": "markdown",
   "id": "18d6be78-a45a-463d-9765-923cd84cf0d6",
   "metadata": {},
   "source": [
    "# Scaling"
   ]
  },
  {
   "cell_type": "code",
   "execution_count": 46,
   "id": "4023c376-7067-437e-85c9-f48b86695cd9",
   "metadata": {},
   "outputs": [],
   "source": [
    "from sklearn.preprocessing import StandardScaler\n",
    "ss = StandardScaler()\n",
    "\n",
    "df1['temperature_standardization'] = ss.fit_transform(df1[['temperature']])"
   ]
  },
  {
   "cell_type": "code",
   "execution_count": 47,
   "id": "a6ae12cf-c51e-4e2e-8f72-86ae6c911223",
   "metadata": {},
   "outputs": [
    {
     "data": {
      "text/html": [
       "<div>\n",
       "<style scoped>\n",
       "    .dataframe tbody tr th:only-of-type {\n",
       "        vertical-align: middle;\n",
       "    }\n",
       "\n",
       "    .dataframe tbody tr th {\n",
       "        vertical-align: top;\n",
       "    }\n",
       "\n",
       "    .dataframe thead th {\n",
       "        text-align: right;\n",
       "    }\n",
       "</style>\n",
       "<table border=\"1\" class=\"dataframe\">\n",
       "  <thead>\n",
       "    <tr style=\"text-align: right;\">\n",
       "      <th></th>\n",
       "      <th>destination</th>\n",
       "      <th>passanger</th>\n",
       "      <th>weather</th>\n",
       "      <th>temperature</th>\n",
       "      <th>time</th>\n",
       "      <th>coupon</th>\n",
       "      <th>expiration</th>\n",
       "      <th>gender</th>\n",
       "      <th>age</th>\n",
       "      <th>maritalStatus</th>\n",
       "      <th>...</th>\n",
       "      <th>age_enc</th>\n",
       "      <th>maritalStatus_enc</th>\n",
       "      <th>education_enc</th>\n",
       "      <th>occupation_enc</th>\n",
       "      <th>Bar_enc</th>\n",
       "      <th>CoffeeHouse_enc</th>\n",
       "      <th>CarryAway_enc</th>\n",
       "      <th>RestaurantLessThan20_enc</th>\n",
       "      <th>Restaurant20To50_enc</th>\n",
       "      <th>temperature_standardization</th>\n",
       "    </tr>\n",
       "  </thead>\n",
       "  <tbody>\n",
       "    <tr>\n",
       "      <th>0</th>\n",
       "      <td>No Urgent Place</td>\n",
       "      <td>Alone</td>\n",
       "      <td>Sunny</td>\n",
       "      <td>55</td>\n",
       "      <td>2PM</td>\n",
       "      <td>Restaurant(&lt;20)</td>\n",
       "      <td>1d</td>\n",
       "      <td>Female</td>\n",
       "      <td>21</td>\n",
       "      <td>Unmarried partner</td>\n",
       "      <td>...</td>\n",
       "      <td>0</td>\n",
       "      <td>3</td>\n",
       "      <td>5</td>\n",
       "      <td>24</td>\n",
       "      <td>4</td>\n",
       "      <td>4</td>\n",
       "      <td>0</td>\n",
       "      <td>1</td>\n",
       "      <td>0</td>\n",
       "      <td>-0.433430</td>\n",
       "    </tr>\n",
       "    <tr>\n",
       "      <th>1</th>\n",
       "      <td>No Urgent Place</td>\n",
       "      <td>Friend(s)</td>\n",
       "      <td>Sunny</td>\n",
       "      <td>80</td>\n",
       "      <td>10AM</td>\n",
       "      <td>Coffee House</td>\n",
       "      <td>2h</td>\n",
       "      <td>Female</td>\n",
       "      <td>21</td>\n",
       "      <td>Unmarried partner</td>\n",
       "      <td>...</td>\n",
       "      <td>0</td>\n",
       "      <td>3</td>\n",
       "      <td>5</td>\n",
       "      <td>24</td>\n",
       "      <td>4</td>\n",
       "      <td>4</td>\n",
       "      <td>0</td>\n",
       "      <td>1</td>\n",
       "      <td>0</td>\n",
       "      <td>0.871799</td>\n",
       "    </tr>\n",
       "    <tr>\n",
       "      <th>2</th>\n",
       "      <td>No Urgent Place</td>\n",
       "      <td>Friend(s)</td>\n",
       "      <td>Sunny</td>\n",
       "      <td>80</td>\n",
       "      <td>10AM</td>\n",
       "      <td>Carry out &amp; Take away</td>\n",
       "      <td>2h</td>\n",
       "      <td>Female</td>\n",
       "      <td>21</td>\n",
       "      <td>Unmarried partner</td>\n",
       "      <td>...</td>\n",
       "      <td>0</td>\n",
       "      <td>3</td>\n",
       "      <td>5</td>\n",
       "      <td>24</td>\n",
       "      <td>4</td>\n",
       "      <td>4</td>\n",
       "      <td>0</td>\n",
       "      <td>1</td>\n",
       "      <td>0</td>\n",
       "      <td>0.871799</td>\n",
       "    </tr>\n",
       "    <tr>\n",
       "      <th>3</th>\n",
       "      <td>No Urgent Place</td>\n",
       "      <td>Friend(s)</td>\n",
       "      <td>Sunny</td>\n",
       "      <td>80</td>\n",
       "      <td>2PM</td>\n",
       "      <td>Coffee House</td>\n",
       "      <td>2h</td>\n",
       "      <td>Female</td>\n",
       "      <td>21</td>\n",
       "      <td>Unmarried partner</td>\n",
       "      <td>...</td>\n",
       "      <td>0</td>\n",
       "      <td>3</td>\n",
       "      <td>5</td>\n",
       "      <td>24</td>\n",
       "      <td>4</td>\n",
       "      <td>4</td>\n",
       "      <td>0</td>\n",
       "      <td>1</td>\n",
       "      <td>0</td>\n",
       "      <td>0.871799</td>\n",
       "    </tr>\n",
       "    <tr>\n",
       "      <th>4</th>\n",
       "      <td>No Urgent Place</td>\n",
       "      <td>Friend(s)</td>\n",
       "      <td>Sunny</td>\n",
       "      <td>80</td>\n",
       "      <td>2PM</td>\n",
       "      <td>Coffee House</td>\n",
       "      <td>1d</td>\n",
       "      <td>Female</td>\n",
       "      <td>21</td>\n",
       "      <td>Unmarried partner</td>\n",
       "      <td>...</td>\n",
       "      <td>0</td>\n",
       "      <td>3</td>\n",
       "      <td>5</td>\n",
       "      <td>24</td>\n",
       "      <td>4</td>\n",
       "      <td>4</td>\n",
       "      <td>0</td>\n",
       "      <td>1</td>\n",
       "      <td>0</td>\n",
       "      <td>0.871799</td>\n",
       "    </tr>\n",
       "  </tbody>\n",
       "</table>\n",
       "<p>5 rows × 43 columns</p>\n",
       "</div>"
      ],
      "text/plain": [
       "       destination  passanger weather  temperature  time  \\\n",
       "0  No Urgent Place      Alone   Sunny           55   2PM   \n",
       "1  No Urgent Place  Friend(s)   Sunny           80  10AM   \n",
       "2  No Urgent Place  Friend(s)   Sunny           80  10AM   \n",
       "3  No Urgent Place  Friend(s)   Sunny           80   2PM   \n",
       "4  No Urgent Place  Friend(s)   Sunny           80   2PM   \n",
       "\n",
       "                  coupon expiration  gender age      maritalStatus  ...  \\\n",
       "0        Restaurant(<20)         1d  Female  21  Unmarried partner  ...   \n",
       "1           Coffee House         2h  Female  21  Unmarried partner  ...   \n",
       "2  Carry out & Take away         2h  Female  21  Unmarried partner  ...   \n",
       "3           Coffee House         2h  Female  21  Unmarried partner  ...   \n",
       "4           Coffee House         1d  Female  21  Unmarried partner  ...   \n",
       "\n",
       "   age_enc maritalStatus_enc education_enc occupation_enc Bar_enc  \\\n",
       "0        0                 3             5             24       4   \n",
       "1        0                 3             5             24       4   \n",
       "2        0                 3             5             24       4   \n",
       "3        0                 3             5             24       4   \n",
       "4        0                 3             5             24       4   \n",
       "\n",
       "  CoffeeHouse_enc CarryAway_enc RestaurantLessThan20_enc Restaurant20To50_enc  \\\n",
       "0               4             0                        1                    0   \n",
       "1               4             0                        1                    0   \n",
       "2               4             0                        1                    0   \n",
       "3               4             0                        1                    0   \n",
       "4               4             0                        1                    0   \n",
       "\n",
       "   temperature_standardization  \n",
       "0                    -0.433430  \n",
       "1                     0.871799  \n",
       "2                     0.871799  \n",
       "3                     0.871799  \n",
       "4                     0.871799  \n",
       "\n",
       "[5 rows x 43 columns]"
      ]
     },
     "execution_count": 47,
     "metadata": {},
     "output_type": "execute_result"
    }
   ],
   "source": [
    "df1.head(5)"
   ]
  },
  {
   "cell_type": "code",
   "execution_count": 48,
   "id": "d5502708-9108-45d2-8796-4ffe72ff7f13",
   "metadata": {},
   "outputs": [
    {
     "data": {
      "text/plain": [
       "Index(['destination', 'passanger', 'weather', 'temperature', 'time', 'coupon',\n",
       "       'expiration', 'gender', 'age', 'maritalStatus', 'has_children',\n",
       "       'education', 'occupation', 'income', 'Bar', 'CoffeeHouse', 'CarryAway',\n",
       "       'RestaurantLessThan20', 'Restaurant20To50', 'toCoupon_GEQ5min',\n",
       "       'toCoupon_GEQ15min', 'toCoupon_GEQ25min', 'direction_same',\n",
       "       'direction_opp', 'Y', 'income_enc', 'destination_enc', 'passanger_enc',\n",
       "       'weather_enc', 'time_enc', 'coupon_enc', 'expiration_enc', 'gender_enc',\n",
       "       'age_enc', 'maritalStatus_enc', 'education_enc', 'occupation_enc',\n",
       "       'Bar_enc', 'CoffeeHouse_enc', 'CarryAway_enc',\n",
       "       'RestaurantLessThan20_enc', 'Restaurant20To50_enc',\n",
       "       'temperature_standardization'],\n",
       "      dtype='object')"
      ]
     },
     "execution_count": 48,
     "metadata": {},
     "output_type": "execute_result"
    }
   ],
   "source": [
    "df1.columns"
   ]
  },
  {
   "cell_type": "markdown",
   "id": "ef878c8d-c471-4219-b6e7-0325fbf4f266",
   "metadata": {},
   "source": [
    "# Training and Testing"
   ]
  },
  {
   "cell_type": "code",
   "execution_count": 50,
   "id": "94209c2f-ca12-4685-b80d-598a753efca7",
   "metadata": {},
   "outputs": [],
   "source": [
    "from sklearn.model_selection import train_test_split\n",
    "\n",
    "Y = df1['Y']\n",
    "X = df1[['income_enc', 'destination_enc', 'passanger_enc', 'weather_enc', 'temperature', 'time_enc', 'coupon_enc', 'expiration_enc', 'gender_enc', 'age_enc', 'maritalStatus_enc', 'education_enc', 'occupation_enc', 'Bar_enc', 'CoffeeHouse_enc', 'CarryAway_enc', 'RestaurantLessThan20_enc', 'Restaurant20To50_enc']]"
   ]
  },
  {
   "cell_type": "code",
   "execution_count": 51,
   "id": "eccd5679-1718-4757-a10c-5f6600b1067f",
   "metadata": {},
   "outputs": [],
   "source": [
    "#Dividing the Dataset into training and testing\n",
    "\n",
    "X_train, X_test, Y_train, Y_test = train_test_split(X, Y, test_size = 0.3)"
   ]
  },
  {
   "cell_type": "markdown",
   "id": "8b79c50c-9c98-405d-9d17-14f0366a4e25",
   "metadata": {},
   "source": [
    "# Random Forest"
   ]
  },
  {
   "cell_type": "code",
   "execution_count": 58,
   "id": "d1c3bdbc-7459-48eb-b893-18006160b23e",
   "metadata": {},
   "outputs": [],
   "source": [
    "#Import Random Forest Model\n",
    "from sklearn.ensemble import RandomForestClassifier\n",
    "\n",
    "from sklearn.metrics import accuracy_score, precision_score, recall_score, f1_score"
   ]
  },
  {
   "cell_type": "code",
   "execution_count": 61,
   "id": "5d0a98ea-1b6c-482f-b71b-693daec87fd0",
   "metadata": {},
   "outputs": [
    {
     "data": {
      "text/html": [
       "<style>#sk-container-id-1 {color: black;background-color: white;}#sk-container-id-1 pre{padding: 0;}#sk-container-id-1 div.sk-toggleable {background-color: white;}#sk-container-id-1 label.sk-toggleable__label {cursor: pointer;display: block;width: 100%;margin-bottom: 0;padding: 0.3em;box-sizing: border-box;text-align: center;}#sk-container-id-1 label.sk-toggleable__label-arrow:before {content: \"▸\";float: left;margin-right: 0.25em;color: #696969;}#sk-container-id-1 label.sk-toggleable__label-arrow:hover:before {color: black;}#sk-container-id-1 div.sk-estimator:hover label.sk-toggleable__label-arrow:before {color: black;}#sk-container-id-1 div.sk-toggleable__content {max-height: 0;max-width: 0;overflow: hidden;text-align: left;background-color: #f0f8ff;}#sk-container-id-1 div.sk-toggleable__content pre {margin: 0.2em;color: black;border-radius: 0.25em;background-color: #f0f8ff;}#sk-container-id-1 input.sk-toggleable__control:checked~div.sk-toggleable__content {max-height: 200px;max-width: 100%;overflow: auto;}#sk-container-id-1 input.sk-toggleable__control:checked~label.sk-toggleable__label-arrow:before {content: \"▾\";}#sk-container-id-1 div.sk-estimator input.sk-toggleable__control:checked~label.sk-toggleable__label {background-color: #d4ebff;}#sk-container-id-1 div.sk-label input.sk-toggleable__control:checked~label.sk-toggleable__label {background-color: #d4ebff;}#sk-container-id-1 input.sk-hidden--visually {border: 0;clip: rect(1px 1px 1px 1px);clip: rect(1px, 1px, 1px, 1px);height: 1px;margin: -1px;overflow: hidden;padding: 0;position: absolute;width: 1px;}#sk-container-id-1 div.sk-estimator {font-family: monospace;background-color: #f0f8ff;border: 1px dotted black;border-radius: 0.25em;box-sizing: border-box;margin-bottom: 0.5em;}#sk-container-id-1 div.sk-estimator:hover {background-color: #d4ebff;}#sk-container-id-1 div.sk-parallel-item::after {content: \"\";width: 100%;border-bottom: 1px solid gray;flex-grow: 1;}#sk-container-id-1 div.sk-label:hover label.sk-toggleable__label {background-color: #d4ebff;}#sk-container-id-1 div.sk-serial::before {content: \"\";position: absolute;border-left: 1px solid gray;box-sizing: border-box;top: 0;bottom: 0;left: 50%;z-index: 0;}#sk-container-id-1 div.sk-serial {display: flex;flex-direction: column;align-items: center;background-color: white;padding-right: 0.2em;padding-left: 0.2em;position: relative;}#sk-container-id-1 div.sk-item {position: relative;z-index: 1;}#sk-container-id-1 div.sk-parallel {display: flex;align-items: stretch;justify-content: center;background-color: white;position: relative;}#sk-container-id-1 div.sk-item::before, #sk-container-id-1 div.sk-parallel-item::before {content: \"\";position: absolute;border-left: 1px solid gray;box-sizing: border-box;top: 0;bottom: 0;left: 50%;z-index: -1;}#sk-container-id-1 div.sk-parallel-item {display: flex;flex-direction: column;z-index: 1;position: relative;background-color: white;}#sk-container-id-1 div.sk-parallel-item:first-child::after {align-self: flex-end;width: 50%;}#sk-container-id-1 div.sk-parallel-item:last-child::after {align-self: flex-start;width: 50%;}#sk-container-id-1 div.sk-parallel-item:only-child::after {width: 0;}#sk-container-id-1 div.sk-dashed-wrapped {border: 1px dashed gray;margin: 0 0.4em 0.5em 0.4em;box-sizing: border-box;padding-bottom: 0.4em;background-color: white;}#sk-container-id-1 div.sk-label label {font-family: monospace;font-weight: bold;display: inline-block;line-height: 1.2em;}#sk-container-id-1 div.sk-label-container {text-align: center;}#sk-container-id-1 div.sk-container {/* jupyter's `normalize.less` sets `[hidden] { display: none; }` but bootstrap.min.css set `[hidden] { display: none !important; }` so we also need the `!important` here to be able to override the default hidden behavior on the sphinx rendered scikit-learn.org. See: https://github.com/scikit-learn/scikit-learn/issues/21755 */display: inline-block !important;position: relative;}#sk-container-id-1 div.sk-text-repr-fallback {display: none;}</style><div id=\"sk-container-id-1\" class=\"sk-top-container\"><div class=\"sk-text-repr-fallback\"><pre>RandomForestClassifier()</pre><b>In a Jupyter environment, please rerun this cell to show the HTML representation or trust the notebook. <br />On GitHub, the HTML representation is unable to render, please try loading this page with nbviewer.org.</b></div><div class=\"sk-container\" hidden><div class=\"sk-item\"><div class=\"sk-estimator sk-toggleable\"><input class=\"sk-toggleable__control sk-hidden--visually\" id=\"sk-estimator-id-1\" type=\"checkbox\" checked><label for=\"sk-estimator-id-1\" class=\"sk-toggleable__label sk-toggleable__label-arrow\">RandomForestClassifier</label><div class=\"sk-toggleable__content\"><pre>RandomForestClassifier()</pre></div></div></div></div></div>"
      ],
      "text/plain": [
       "RandomForestClassifier()"
      ]
     },
     "execution_count": 61,
     "metadata": {},
     "output_type": "execute_result"
    }
   ],
   "source": [
    "#Create a Gaussian Classifier\n",
    "rf = RandomForestClassifier(n_estimators=100)\n",
    "\n",
    "#Train the model using the training sets y_pred=clf.predict(X_test)\n",
    "rf.fit(X_train,Y_train)"
   ]
  },
  {
   "cell_type": "code",
   "execution_count": 62,
   "id": "3ba3e72e-e56f-4977-aa6b-1a8eec368081",
   "metadata": {},
   "outputs": [],
   "source": [
    "Y_pred1 = rf.predict(X_test)"
   ]
  },
  {
   "cell_type": "markdown",
   "id": "d66d719a-8316-4481-85a8-510107a43fee",
   "metadata": {},
   "source": [
    "# Calculating Performance for Random Forest"
   ]
  },
  {
   "cell_type": "code",
   "execution_count": 65,
   "id": "9a65747b-0060-4e0f-a1ee-a798ba7c9803",
   "metadata": {},
   "outputs": [
    {
     "name": "stdout",
     "output_type": "stream",
     "text": [
      "accuracy: 0.7524960588544404 precision_score:  0.8215898825654924 recall_score:  0.7688081149619611 f1_score:  0.7943231441048035\n"
     ]
    }
   ],
   "source": [
    "print (\"accuracy:\", accuracy_score(Y_pred1,Y_test), \"precision_score: \", precision_score(Y_pred1,Y_test),\"recall_score: \", recall_score(Y_pred1,Y_test),\"f1_score: \",f1_score(Y_pred1,Y_test))"
   ]
  },
  {
   "cell_type": "markdown",
   "id": "5abc621a-ae22-44fe-b804-f1824e9814c6",
   "metadata": {},
   "source": [
    "# Visualizing Important Features"
   ]
  },
  {
   "cell_type": "code",
   "execution_count": 67,
   "id": "9f39dc6b-6b67-4ff2-aa36-f3ad6e5ebc09",
   "metadata": {},
   "outputs": [
    {
     "name": "stderr",
     "output_type": "stream",
     "text": [
      "No artists with labels found to put in legend.  Note that artists whose label start with an underscore are ignored when legend() is called with no argument.\n"
     ]
    },
    {
     "data": {
      "image/png": "[encoded data removed]",
      "text/plain": [
       "<Figure size 640x480 with 1 Axes>"
      ]
     },
     "metadata": {},
     "output_type": "display_data"
    }
   ],
   "source": [
    "# Visualizing Important Features\n",
    "\n",
    "feature_imp1 = pd.Series(rf.feature_importances_,index=X_train.columns).sort_values(ascending=False)\n",
    "\n",
    "#visualizing feature importance results\n",
    "import matplotlib.pyplot as plt\n",
    "import seaborn as sns\n",
    "%matplotlib inline\n",
    "# Creating a bar plot\n",
    "sns.barplot(x=feature_imp1, y=feature_imp1.index)\n",
    "# Add labels to your graph\n",
    "plt.xlabel('Feature Importance Score')\n",
    "plt.ylabel('Features')\n",
    "plt.title(\"Visualizing Important Features\")\n",
    "plt.legend()\n",
    "plt.show()"
   ]
  },
  {
   "cell_type": "markdown",
   "id": "f6d5420f-6f36-489f-937a-701e8adf6e38",
   "metadata": {},
   "source": [
    "# KNN"
   ]
  },
  {
   "cell_type": "code",
   "execution_count": 69,
   "id": "7d0c5f91-f12a-44f3-8c05-fc327caa6604",
   "metadata": {},
   "outputs": [],
   "source": [
    "from sklearn.neighbors import KNeighborsClassifier"
   ]
  },
  {
   "cell_type": "code",
   "execution_count": null,
   "id": "26c2f2ce-34ba-4221-a86d-e7db59c8757f",
   "metadata": {},
   "outputs": [],
   "source": [
    "error_rate = []\n",
    "for i in range(1,50):\n",
    " knn = KNeighborsClassifier(n_neighbors=i)\n",
    " knn.fit(X_train,Y_train)\n",
    " pred_i = knn.predict(X_test)\n",
    " #print (pred_i)\n",
    " #print (1-accuracy_score(y_test, pred_i))\n",
    " error_rate.append(1-accuracy_score(Y_test, pred_i))\n",
    "\n",
    "plt.figure(figsize=(10,6))\n",
    "plt.plot(range(1,50),error_rate,color='blue', linestyle='dashed', \n",
    "         marker='o',markerfacecolor='red', markersize=10)\n",
    "plt.title('Error Rate vs. K Value')\n",
    "plt.xlabel('K')\n",
    "plt.ylabel('Error Rate')\n",
    "plt.show()\n",
    "print(\"Minimum error:-\",min(error_rate),\"at K =\",error_rate.index(min(error_rate))+1)"
   ]
  },
  {
   "cell_type": "code",
   "execution_count": null,
   "id": "d5ead6a0-5344-4609-9dd2-205bf0e14b84",
   "metadata": {},
   "outputs": [],
   "source": [
    "knn = KNeighborsClassifier(n_neighbors=41, metric='euclidean')\n",
    "knn.fit(X_train, Y_train)"
   ]
  },
  {
   "cell_type": "code",
   "execution_count": null,
   "id": "9f1eca34-a751-442c-bcf8-81ee7b1dfbc4",
   "metadata": {},
   "outputs": [],
   "source": [
    "Y_pred2 = knn.predict(X_test)"
   ]
  },
  {
   "cell_type": "markdown",
   "id": "9ed76895-0b68-4f7e-b4b8-15f924bec7ce",
   "metadata": {},
   "source": [
    "# Calculating Performance for KNN"
   ]
  },
  {
   "cell_type": "code",
   "execution_count": null,
   "id": "c8d3c65a-9a7d-4dc9-9ed4-b18e0fadffd2",
   "metadata": {},
   "outputs": [],
   "source": [
    "print (\"accuracy:\", accuracy_score(Y_pred2,Y_test), \"precision_score: \", precision_score(Y_pred2,Y_test),\"recall_score: \", recall_score(Y_pred2,Y_test),\"f1_score: \",f1_score(Y_pred2,Y_test))"
   ]
  },
  {
   "cell_type": "markdown",
   "id": "8b83ac1c-fac4-4ffe-93c6-64866f196ced",
   "metadata": {},
   "source": [
    "# XGBoost"
   ]
  },
  {
   "cell_type": "code",
   "execution_count": null,
   "id": "fb50ac8f-c7f0-414a-a24e-4942bdb78003",
   "metadata": {},
   "outputs": [],
   "source": [
    "#Import XGBoost\n",
    "import xgboost as xgb\n",
    "\n",
    "clf3 = xgb.XGBClassifier()\n",
    "\n",
    "clf3.fit(X_train, Y_train)"
   ]
  },
  {
   "cell_type": "code",
   "execution_count": null,
   "id": "83c00354-ceed-45ff-8c49-29418a0b6cda",
   "metadata": {},
   "outputs": [],
   "source": [
    "Y_pred3=clf3.predict(X_test)"
   ]
  },
  {
   "cell_type": "markdown",
   "id": "01a43351-bc49-43da-8818-0aa6f838a5b8",
   "metadata": {},
   "source": [
    "# Calculating Performance for XGBoost"
   ]
  },
  {
   "cell_type": "code",
   "execution_count": null,
   "id": "4c70dd29-b51f-43a5-a6c6-9d92dc2ceb79",
   "metadata": {},
   "outputs": [],
   "source": [
    "print (\"accuracy:\", accuracy_score(Y_pred3,Y_test), \"precision_score: \", precision_score(Y_pred3,Y_test),\"recall_score: \", recall_score(Y_pred3,Y_test),\"f1_score: \",f1_score(Y_pred3,Y_test))"
   ]
  },
  {
   "cell_type": "markdown",
   "id": "8d0921fa-eff6-4722-8bc9-550982cd276c",
   "metadata": {},
   "source": [
    "# Visualizing Important Features"
   ]
  },
  {
   "cell_type": "code",
   "execution_count": null,
   "id": "a5950f7c-e08f-4aa9-94f6-4bf373686153",
   "metadata": {},
   "outputs": [],
   "source": [
    "feature_imp3 = pd.Series(clf3.feature_importances_,index=X_train.columns).sort_values(ascending=False)\n",
    "\n",
    "#visualizing feature importance results\n",
    "import matplotlib.pyplot as plt\n",
    "import seaborn as sns\n",
    "%matplotlib inline\n",
    "# Creating a bar plot\n",
    "sns.barplot(x=feature_imp3, y=feature_imp3.index)\n",
    "# Add labels to your graph\n",
    "plt.xlabel('Feature Importance Score')\n",
    "plt.ylabel('Features')\n",
    "plt.title(\"Visualizing Important Features\")\n",
    "plt.legend()\n",
    "plt.show()"
   ]
  },
  {
   "cell_type": "markdown",
   "id": "52319436-5902-44dc-959d-3cfa62496bb1",
   "metadata": {},
   "source": [
    "# Comparing the performance of the Algorithms"
   ]
  },
  {
   "cell_type": "code",
   "execution_count": null,
   "id": "7267c0a6-f8d2-4587-9929-56c7858d6b49",
   "metadata": {},
   "outputs": [],
   "source": [
    "import matplotlib.pyplot as plt\n",
    "import numpy as np\n",
    "from sklearn.metrics import accuracy_score, precision_score, recall_score, f1_score\n",
    "\n",
    "# Calculate the scores for each prediction\n",
    "scores1 = {\n",
    "    'accuracy': accuracy_score(Y_pred1, Y_test),\n",
    "    'precision': precision_score(Y_pred1, Y_test, average='macro'),  # Specify average='macro' for multiclass\n",
    "    'recall': recall_score(Y_pred1, Y_test, average='macro'),\n",
    "    'f1': f1_score(Y_pred1, Y_test, average='macro')\n",
    "}\n",
    "\n",
    "scores2 = {\n",
    "    'accuracy': accuracy_score(Y_pred2, Y_test),\n",
    "    'precision': precision_score(Y_pred2, Y_test, average='macro'),\n",
    "    'recall': recall_score(Y_pred2, Y_test, average='macro'),\n",
    "    'f1': f1_score(Y_pred2, Y_test, average='macro')\n",
    "}\n",
    "\n",
    "scores3 = {\n",
    "    'accuracy': accuracy_score(Y_pred3, Y_test),\n",
    "    'precision': precision_score(Y_pred3, Y_test, average='macro'),\n",
    "    'recall': recall_score(Y_pred3, Y_test, average='macro'),\n",
    "    'f1': f1_score(Y_pred3, Y_test, average='macro')\n",
    "}\n",
    "\n",
    "# Create a DataFrame to organize the scores for plotting\n",
    "import pandas as pd\n",
    "scores_df = pd.DataFrame([scores1, scores2, scores3], index=['Random Forest', 'KNN', 'XGBoost'])\n",
    "\n",
    "# Plotting the bar graphs\n",
    "fig, axes = plt.subplots(2, 2, figsize=(12, 10))\n",
    "fig.suptitle('Comparison of Model Performance Metrics')\n",
    "\n",
    "# Plot Accuracy\n",
    "axes[0, 0].bar(scores_df.index, scores_df['accuracy'], color='blue')\n",
    "axes[0, 0].set_title('Accuracy')\n",
    "axes[0, 0].set_ylim(0, 1)\n",
    "\n",
    "# Plot Precision\n",
    "axes[0, 1].bar(scores_df.index, scores_df['precision'], color='green')\n",
    "axes[0, 1].set_title('Precision')\n",
    "axes[0, 1].set_ylim(0, 1)\n",
    "\n",
    "# Plot Recall\n",
    "axes[1, 0].bar(scores_df.index, scores_df['recall'], color='red')\n",
    "axes[1, 0].set_title('Recall')\n",
    "axes[1, 0].set_ylim(0, 1)\n",
    "\n",
    "# Plot F1 Score\n",
    "axes[1, 1].bar(scores_df.index, scores_df['f1'], color='purple')\n",
    "axes[1, 1].set_title('F1 Score')\n",
    "axes[1, 1].set_ylim(0, 1)\n",
    "\n",
    "# Adding labels and grid\n",
    "for ax in axes.flat:\n",
    "    ax.set_ylabel('Score')\n",
    "    ax.set_xlabel('Model')\n",
    "    ax.grid(True)\n",
    "\n",
    "# Adjust layout\n",
    "plt.tight_layout(rect=[0, 0, 1, 0.96])\n",
    "\n",
    "# Show the plots\n",
    "plt.show()\n"
   ]
  },
  {
   "cell_type": "code",
   "execution_count": null,
   "id": "55ad0a5d-ee6b-4d1c-af3f-13319bdebfd5",
   "metadata": {},
   "outputs": [],
   "source": [
    "new_test_data = pd.read_excel(\"C://Users//Tiny_//Downloads//ML Assignment//New_test_data.xlsx\")"
   ]
  },
  {
   "cell_type": "code",
   "execution_count": null,
   "id": "8f6c7df8-b4a9-48b7-b32e-8e1feaa1994f",
   "metadata": {},
   "outputs": [],
   "source": [
    "new_test_data.head(1)"
   ]
  },
  {
   "cell_type": "code",
   "execution_count": null,
   "id": "77a217b1-adc4-4c2b-ab74-b75b1d63908b",
   "metadata": {},
   "outputs": [],
   "source": [
    "clf3.predict(new_test_data)"
   ]
  }
 ],
 "metadata": {
  "kernelspec": {
   "display_name": "Python 3 (ipykernel)",
   "language": "python",
   "name": "python3"
  },
  "language_info": {
   "codemirror_mode": {
    "name": "ipython",
    "version": 3
   },
   "file_extension": ".py",
   "mimetype": "text/x-python",
   "name": "python",
   "nbconvert_exporter": "python",
   "pygments_lexer": "ipython3",
   "version": "3.11.7"
  }
 },
 "nbformat": 4,
 "nbformat_minor": 5
}
